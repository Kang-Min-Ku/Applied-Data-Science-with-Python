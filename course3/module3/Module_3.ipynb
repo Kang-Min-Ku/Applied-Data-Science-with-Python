{
 "cells": [
  {
   "cell_type": "markdown",
   "metadata": {},
   "source": [
    "---\n",
    "\n",
    "_You are currently looking at **version 1.0** of this notebook. To download notebooks and datafiles, as well as get help on Jupyter notebooks in the Coursera platform, visit the [Jupyter Notebook FAQ](https://www.coursera.org/learn/python-machine-learning/resources/bANLa) course resource._\n",
    "\n",
    "---"
   ]
  },
  {
   "cell_type": "markdown",
   "metadata": {
    "collapsed": true
   },
   "source": [
    "# Applied Machine Learning: Module 3 (Evaluation)"
   ]
  },
  {
   "cell_type": "markdown",
   "metadata": {},
   "source": [
    "## Evaluation for Classification"
   ]
  },
  {
   "cell_type": "markdown",
   "metadata": {},
   "source": [
    "### Preamble"
   ]
  },
  {
   "cell_type": "code",
   "execution_count": 1,
   "metadata": {
    "collapsed": false
   },
   "outputs": [
    {
     "name": "stdout",
     "output_type": "stream",
     "text": [
      "0 178\n",
      "1 182\n",
      "2 177\n",
      "3 183\n",
      "4 181\n",
      "5 182\n",
      "6 181\n",
      "7 179\n",
      "8 174\n",
      "9 180\n"
     ]
    }
   ],
   "source": [
    "%matplotlib notebook\n",
    "import numpy as np\n",
    "import pandas as pd\n",
    "import seaborn as sns\n",
    "import matplotlib.pyplot as plt\n",
    "from sklearn.model_selection import train_test_split\n",
    "from sklearn.datasets import load_digits\n",
    "\n",
    "dataset = load_digits()\n",
    "X, y = dataset.data, dataset.target\n",
    "\n",
    "for class_name, class_count in zip(dataset.target_names, np.bincount(dataset.target)):\n",
    "    print(class_name,class_count)"
   ]
  },
  {
   "cell_type": "code",
   "execution_count": 2,
   "metadata": {
    "collapsed": false
   },
   "outputs": [
    {
     "name": "stdout",
     "output_type": "stream",
     "text": [
      "Original labels:\t [1 2 3 4 5 6 7 8 9 0 1 2 3 4 5 6 7 8 9 0 1 2 3 4 5 6 7 8 9]\n",
      "New binary labels:\t [1 0 0 0 0 0 0 0 0 0 1 0 0 0 0 0 0 0 0 0 1 0 0 0 0 0 0 0 0]\n"
     ]
    }
   ],
   "source": [
    "# Creating a dataset with imbalanced binary classes:  \n",
    "# Negative class (0) is 'not digit 1' \n",
    "# Positive class (1) is 'digit 1'\n",
    "y_binary_imbalanced = y.copy()\n",
    "y_binary_imbalanced[y_binary_imbalanced != 1] = 0\n",
    "\n",
    "print('Original labels:\\t', y[1:30])\n",
    "print('New binary labels:\\t', y_binary_imbalanced[1:30])"
   ]
  },
  {
   "cell_type": "code",
   "execution_count": 3,
   "metadata": {
    "collapsed": false,
    "scrolled": true
   },
   "outputs": [
    {
     "data": {
      "text/plain": [
       "array([1615,  182])"
      ]
     },
     "execution_count": 3,
     "metadata": {},
     "output_type": "execute_result"
    }
   ],
   "source": [
    "np.bincount(y_binary_imbalanced)    # Negative class (0) is the most frequent class"
   ]
  },
  {
   "cell_type": "code",
   "execution_count": 4,
   "metadata": {
    "collapsed": false
   },
   "outputs": [
    {
     "data": {
      "text/plain": [
       "0.90888888888888886"
      ]
     },
     "execution_count": 4,
     "metadata": {},
     "output_type": "execute_result"
    }
   ],
   "source": [
    "X_train, X_test, y_train, y_test = train_test_split(X, y_binary_imbalanced, random_state=0)\n",
    "\n",
    "# Accuracy of Support Vector Machine classifier\n",
    "from sklearn.svm import SVC\n",
    "\n",
    "svm = SVC(kernel='rbf', C=1).fit(X_train, y_train)\n",
    "svm.score(X_test, y_test)"
   ]
  },
  {
   "cell_type": "markdown",
   "metadata": {},
   "source": [
    "### Dummy Classifiers"
   ]
  },
  {
   "cell_type": "markdown",
   "metadata": {
    "collapsed": true
   },
   "source": [
    "DummyClassifier is a classifier that makes predictions using simple rules, which can be useful as a baseline for comparison against actual classifiers, especially with imbalanced classes."
   ]
  },
  {
   "cell_type": "code",
   "execution_count": 5,
   "metadata": {
    "collapsed": false
   },
   "outputs": [
    {
     "data": {
      "text/plain": [
       "array([0, 0, 0, 0, 0, 0, 0, 0, 0, 0, 0, 0, 0, 0, 0, 0, 0, 0, 0, 0, 0, 0, 0,\n",
       "       0, 0, 0, 0, 0, 0, 0, 0, 0, 0, 0, 0, 0, 0, 0, 0, 0, 0, 0, 0, 0, 0, 0,\n",
       "       0, 0, 0, 0, 0, 0, 0, 0, 0, 0, 0, 0, 0, 0, 0, 0, 0, 0, 0, 0, 0, 0, 0,\n",
       "       0, 0, 0, 0, 0, 0, 0, 0, 0, 0, 0, 0, 0, 0, 0, 0, 0, 0, 0, 0, 0, 0, 0,\n",
       "       0, 0, 0, 0, 0, 0, 0, 0, 0, 0, 0, 0, 0, 0, 0, 0, 0, 0, 0, 0, 0, 0, 0,\n",
       "       0, 0, 0, 0, 0, 0, 0, 0, 0, 0, 0, 0, 0, 0, 0, 0, 0, 0, 0, 0, 0, 0, 0,\n",
       "       0, 0, 0, 0, 0, 0, 0, 0, 0, 0, 0, 0, 0, 0, 0, 0, 0, 0, 0, 0, 0, 0, 0,\n",
       "       0, 0, 0, 0, 0, 0, 0, 0, 0, 0, 0, 0, 0, 0, 0, 0, 0, 0, 0, 0, 0, 0, 0,\n",
       "       0, 0, 0, 0, 0, 0, 0, 0, 0, 0, 0, 0, 0, 0, 0, 0, 0, 0, 0, 0, 0, 0, 0,\n",
       "       0, 0, 0, 0, 0, 0, 0, 0, 0, 0, 0, 0, 0, 0, 0, 0, 0, 0, 0, 0, 0, 0, 0,\n",
       "       0, 0, 0, 0, 0, 0, 0, 0, 0, 0, 0, 0, 0, 0, 0, 0, 0, 0, 0, 0, 0, 0, 0,\n",
       "       0, 0, 0, 0, 0, 0, 0, 0, 0, 0, 0, 0, 0, 0, 0, 0, 0, 0, 0, 0, 0, 0, 0,\n",
       "       0, 0, 0, 0, 0, 0, 0, 0, 0, 0, 0, 0, 0, 0, 0, 0, 0, 0, 0, 0, 0, 0, 0,\n",
       "       0, 0, 0, 0, 0, 0, 0, 0, 0, 0, 0, 0, 0, 0, 0, 0, 0, 0, 0, 0, 0, 0, 0,\n",
       "       0, 0, 0, 0, 0, 0, 0, 0, 0, 0, 0, 0, 0, 0, 0, 0, 0, 0, 0, 0, 0, 0, 0,\n",
       "       0, 0, 0, 0, 0, 0, 0, 0, 0, 0, 0, 0, 0, 0, 0, 0, 0, 0, 0, 0, 0, 0, 0,\n",
       "       0, 0, 0, 0, 0, 0, 0, 0, 0, 0, 0, 0, 0, 0, 0, 0, 0, 0, 0, 0, 0, 0, 0,\n",
       "       0, 0, 0, 0, 0, 0, 0, 0, 0, 0, 0, 0, 0, 0, 0, 0, 0, 0, 0, 0, 0, 0, 0,\n",
       "       0, 0, 0, 0, 0, 0, 0, 0, 0, 0, 0, 0, 0, 0, 0, 0, 0, 0, 0, 0, 0, 0, 0,\n",
       "       0, 0, 0, 0, 0, 0, 0, 0, 0, 0, 0, 0, 0])"
      ]
     },
     "execution_count": 5,
     "metadata": {},
     "output_type": "execute_result"
    }
   ],
   "source": [
    "from sklearn.dummy import DummyClassifier\n",
    "\n",
    "# Negative class (0) is most frequent\n",
    "dummy_majority = DummyClassifier(strategy = 'most_frequent').fit(X_train, y_train)\n",
    "# Therefore the dummy 'most_frequent' classifier always predicts class 0\n",
    "y_dummy_predictions = dummy_majority.predict(X_test)\n",
    "\n",
    "y_dummy_predictions"
   ]
  },
  {
   "cell_type": "code",
   "execution_count": 6,
   "metadata": {
    "collapsed": false
   },
   "outputs": [
    {
     "data": {
      "text/plain": [
       "0.9044444444444445"
      ]
     },
     "execution_count": 6,
     "metadata": {},
     "output_type": "execute_result"
    }
   ],
   "source": [
    "dummy_majority.score(X_test, y_test)"
   ]
  },
  {
   "cell_type": "code",
   "execution_count": 7,
   "metadata": {
    "collapsed": false
   },
   "outputs": [
    {
     "data": {
      "text/plain": [
       "0.97777777777777775"
      ]
     },
     "execution_count": 7,
     "metadata": {},
     "output_type": "execute_result"
    }
   ],
   "source": [
    "svm = SVC(kernel='linear', C=1).fit(X_train, y_train)\n",
    "svm.score(X_test, y_test)"
   ]
  },
  {
   "cell_type": "markdown",
   "metadata": {},
   "source": [
    "### Confusion matrices"
   ]
  },
  {
   "cell_type": "markdown",
   "metadata": {},
   "source": [
    "#### Binary (two-class) confusion matrix"
   ]
  },
  {
   "cell_type": "code",
   "execution_count": 8,
   "metadata": {
    "collapsed": false
   },
   "outputs": [
    {
     "name": "stdout",
     "output_type": "stream",
     "text": [
      "Most frequent class (dummy classifier)\n",
      " [[407   0]\n",
      " [ 43   0]]\n"
     ]
    }
   ],
   "source": [
    "from sklearn.metrics import confusion_matrix\n",
    "\n",
    "# Negative class (0) is most frequent\n",
    "dummy_majority = DummyClassifier(strategy = 'most_frequent').fit(X_train, y_train)\n",
    "y_majority_predicted = dummy_majority.predict(X_test)\n",
    "confusion = confusion_matrix(y_test, y_majority_predicted)\n",
    "\n",
    "print('Most frequent class (dummy classifier)\\n', confusion)"
   ]
  },
  {
   "cell_type": "code",
   "execution_count": 9,
   "metadata": {
    "collapsed": false
   },
   "outputs": [
    {
     "name": "stdout",
     "output_type": "stream",
     "text": [
      "Random class-proportional prediction (dummy classifier)\n",
      " [[363  44]\n",
      " [ 38   5]]\n"
     ]
    }
   ],
   "source": [
    "# produces random predictions w/ same class proportion as training set\n",
    "dummy_classprop = DummyClassifier(strategy='stratified').fit(X_train, y_train)\n",
    "y_classprop_predicted = dummy_classprop.predict(X_test)\n",
    "confusion = confusion_matrix(y_test, y_classprop_predicted)\n",
    "\n",
    "print('Random class-proportional prediction (dummy classifier)\\n', confusion)"
   ]
  },
  {
   "cell_type": "code",
   "execution_count": 10,
   "metadata": {
    "collapsed": false,
    "scrolled": true
   },
   "outputs": [
    {
     "name": "stdout",
     "output_type": "stream",
     "text": [
      "Support vector machine classifier (linear kernel, C=1)\n",
      " [[402   5]\n",
      " [  5  38]]\n"
     ]
    }
   ],
   "source": [
    "svm = SVC(kernel='linear', C=1).fit(X_train, y_train)\n",
    "svm_predicted = svm.predict(X_test)\n",
    "confusion = confusion_matrix(y_test, svm_predicted)\n",
    "\n",
    "print('Support vector machine classifier (linear kernel, C=1)\\n', confusion)"
   ]
  },
  {
   "cell_type": "code",
   "execution_count": 11,
   "metadata": {
    "collapsed": false
   },
   "outputs": [
    {
     "name": "stdout",
     "output_type": "stream",
     "text": [
      "Logistic regression classifier (default settings)\n",
      " [[401   6]\n",
      " [  6  37]]\n"
     ]
    }
   ],
   "source": [
    "from sklearn.linear_model import LogisticRegression\n",
    "\n",
    "lr = LogisticRegression().fit(X_train, y_train)\n",
    "lr_predicted = lr.predict(X_test)\n",
    "confusion = confusion_matrix(y_test, lr_predicted)\n",
    "\n",
    "print('Logistic regression classifier (default settings)\\n', confusion)"
   ]
  },
  {
   "cell_type": "code",
   "execution_count": 12,
   "metadata": {
    "collapsed": false
   },
   "outputs": [
    {
     "name": "stdout",
     "output_type": "stream",
     "text": [
      "Decision tree classifier (max_depth = 2)\n",
      " [[400   7]\n",
      " [ 17  26]]\n"
     ]
    }
   ],
   "source": [
    "from sklearn.tree import DecisionTreeClassifier\n",
    "\n",
    "dt = DecisionTreeClassifier(max_depth=2).fit(X_train, y_train)\n",
    "tree_predicted = dt.predict(X_test)\n",
    "confusion = confusion_matrix(y_test, tree_predicted)\n",
    "\n",
    "print('Decision tree classifier (max_depth = 2)\\n', confusion)"
   ]
  },
  {
   "cell_type": "markdown",
   "metadata": {},
   "source": [
    "### Evaluation metrics for binary classification"
   ]
  },
  {
   "cell_type": "code",
   "execution_count": 13,
   "metadata": {
    "collapsed": false
   },
   "outputs": [
    {
     "name": "stdout",
     "output_type": "stream",
     "text": [
      "Accuracy: 0.95\n",
      "Precision: 0.79\n",
      "Recall: 0.60\n",
      "F1: 0.68\n"
     ]
    }
   ],
   "source": [
    "from sklearn.metrics import accuracy_score, precision_score, recall_score, f1_score\n",
    "# Accuracy = TP + TN / (TP + TN + FP + FN)\n",
    "# Precision = TP / (TP + FP)\n",
    "# Recall = TP / (TP + FN)  Also known as sensitivity, or True Positive Rate\n",
    "# F1 = 2 * Precision * Recall / (Precision + Recall) \n",
    "print('Accuracy: {:.2f}'.format(accuracy_score(y_test, tree_predicted)))\n",
    "print('Precision: {:.2f}'.format(precision_score(y_test, tree_predicted)))\n",
    "print('Recall: {:.2f}'.format(recall_score(y_test, tree_predicted)))\n",
    "print('F1: {:.2f}'.format(f1_score(y_test, tree_predicted)))"
   ]
  },
  {
   "cell_type": "code",
   "execution_count": 14,
   "metadata": {
    "collapsed": false
   },
   "outputs": [
    {
     "name": "stdout",
     "output_type": "stream",
     "text": [
      "             precision    recall  f1-score   support\n",
      "\n",
      "      not 1       0.96      0.98      0.97       407\n",
      "          1       0.79      0.60      0.68        43\n",
      "\n",
      "avg / total       0.94      0.95      0.94       450\n",
      "\n"
     ]
    }
   ],
   "source": [
    "# Combined report with all above metrics\n",
    "from sklearn.metrics import classification_report\n",
    "\n",
    "print(classification_report(y_test, tree_predicted, target_names=['not 1', '1']))"
   ]
  },
  {
   "cell_type": "code",
   "execution_count": 15,
   "metadata": {
    "collapsed": false,
    "scrolled": false
   },
   "outputs": [
    {
     "name": "stdout",
     "output_type": "stream",
     "text": [
      "Random class-proportional (dummy)\n",
      "              precision    recall  f1-score   support\n",
      "\n",
      "      not 1       0.91      0.89      0.90       407\n",
      "          1       0.10      0.12      0.11        43\n",
      "\n",
      "avg / total       0.83      0.82      0.82       450\n",
      "\n",
      "SVM\n",
      "              precision    recall  f1-score   support\n",
      "\n",
      "      not 1       0.99      0.99      0.99       407\n",
      "          1       0.88      0.88      0.88        43\n",
      "\n",
      "avg / total       0.98      0.98      0.98       450\n",
      "\n",
      "Logistic regression\n",
      "              precision    recall  f1-score   support\n",
      "\n",
      "      not 1       0.99      0.99      0.99       407\n",
      "          1       0.86      0.86      0.86        43\n",
      "\n",
      "avg / total       0.97      0.97      0.97       450\n",
      "\n",
      "Decision tree\n",
      "              precision    recall  f1-score   support\n",
      "\n",
      "      not 1       0.96      0.98      0.97       407\n",
      "          1       0.79      0.60      0.68        43\n",
      "\n",
      "avg / total       0.94      0.95      0.94       450\n",
      "\n"
     ]
    }
   ],
   "source": [
    "print('Random class-proportional (dummy)\\n', \n",
    "      classification_report(y_test, y_classprop_predicted, target_names=['not 1', '1']))\n",
    "print('SVM\\n', \n",
    "      classification_report(y_test, svm_predicted, target_names = ['not 1', '1']))\n",
    "print('Logistic regression\\n', \n",
    "      classification_report(y_test, lr_predicted, target_names = ['not 1', '1']))\n",
    "print('Decision tree\\n', \n",
    "      classification_report(y_test, tree_predicted, target_names = ['not 1', '1']))"
   ]
  },
  {
   "cell_type": "markdown",
   "metadata": {},
   "source": [
    "### Decision functions"
   ]
  },
  {
   "cell_type": "code",
   "execution_count": 16,
   "metadata": {
    "collapsed": false
   },
   "outputs": [
    {
     "data": {
      "text/plain": [
       "[(0, -23.172292973469546),\n",
       " (0, -13.542576515500063),\n",
       " (0, -21.717588760007867),\n",
       " (0, -18.903065133316439),\n",
       " (0, -19.733169947138638),\n",
       " (0, -9.7463217496747667),\n",
       " (1, 5.2327155658831135),\n",
       " (0, -19.308012306288916),\n",
       " (0, -25.099330209728528),\n",
       " (0, -21.824312362996),\n",
       " (0, -24.14378275072049),\n",
       " (0, -19.578811099762508),\n",
       " (0, -22.568371393280199),\n",
       " (0, -10.822590225240777),\n",
       " (0, -11.907918741521932),\n",
       " (0, -10.977026853802803),\n",
       " (1, 11.206811164226373),\n",
       " (0, -27.64415761980748),\n",
       " (0, -12.857692102545409),\n",
       " (0, -25.848149140240199)]"
      ]
     },
     "execution_count": 16,
     "metadata": {},
     "output_type": "execute_result"
    }
   ],
   "source": [
    "X_train, X_test, y_train, y_test = train_test_split(X, y_binary_imbalanced, random_state=0)\n",
    "y_scores_lr = lr.fit(X_train, y_train).decision_function(X_test)\n",
    "y_score_list = list(zip(y_test[0:20], y_scores_lr[0:20]))\n",
    "\n",
    "# show the decision_function scores for first 20 instances\n",
    "y_score_list"
   ]
  },
  {
   "cell_type": "code",
   "execution_count": 17,
   "metadata": {
    "collapsed": false
   },
   "outputs": [
    {
     "data": {
      "text/plain": [
       "[(0, 8.6377579220606777e-11),\n",
       " (0, 1.3138118599563783e-06),\n",
       " (0, 3.6997386039099529e-10),\n",
       " (0, 6.1730972504865465e-09),\n",
       " (0, 2.6914925394345074e-09),\n",
       " (0, 5.8506057771143608e-05),\n",
       " (1, 0.99468934644404694),\n",
       " (0, 4.1175302368500096e-09),\n",
       " (0, 1.2574750894253029e-11),\n",
       " (0, 3.3252290754668869e-10),\n",
       " (0, 3.2695529799373086e-11),\n",
       " (0, 3.1407283576084884e-09),\n",
       " (0, 1.5800864117150149e-10),\n",
       " (0, 1.9943442430612578e-05),\n",
       " (0, 6.7368003023860014e-06),\n",
       " (0, 1.7089540581641637e-05),\n",
       " (1, 0.9999864188091131),\n",
       " (0, 9.8694940340195476e-13),\n",
       " (0, 2.6059983600823893e-06),\n",
       " (0, 5.9469113009063784e-12)]"
      ]
     },
     "execution_count": 17,
     "metadata": {},
     "output_type": "execute_result"
    }
   ],
   "source": [
    "X_train, X_test, y_train, y_test = train_test_split(X, y_binary_imbalanced, random_state=0)\n",
    "y_proba_lr = lr.fit(X_train, y_train).predict_proba(X_test)\n",
    "y_proba_list = list(zip(y_test[0:20], y_proba_lr[0:20,1]))\n",
    "\n",
    "# show the probability of positive class for first 20 instances\n",
    "y_proba_list"
   ]
  },
  {
   "cell_type": "markdown",
   "metadata": {},
   "source": [
    "### Precision-recall curves"
   ]
  },
  {
   "cell_type": "code",
   "execution_count": 18,
   "metadata": {
    "collapsed": false
   },
   "outputs": [
    {
     "data": {
      "application/javascript": [
       "/* Put everything inside the global mpl namespace */\n",
       "window.mpl = {};\n",
       "\n",
       "\n",
       "mpl.get_websocket_type = function() {\n",
       "    if (typeof(WebSocket) !== 'undefined') {\n",
       "        return WebSocket;\n",
       "    } else if (typeof(MozWebSocket) !== 'undefined') {\n",
       "        return MozWebSocket;\n",
       "    } else {\n",
       "        alert('Your browser does not have WebSocket support.' +\n",
       "              'Please try Chrome, Safari or Firefox ≥ 6. ' +\n",
       "              'Firefox 4 and 5 are also supported but you ' +\n",
       "              'have to enable WebSockets in about:config.');\n",
       "    };\n",
       "}\n",
       "\n",
       "mpl.figure = function(figure_id, websocket, ondownload, parent_element) {\n",
       "    this.id = figure_id;\n",
       "\n",
       "    this.ws = websocket;\n",
       "\n",
       "    this.supports_binary = (this.ws.binaryType != undefined);\n",
       "\n",
       "    if (!this.supports_binary) {\n",
       "        var warnings = document.getElementById(\"mpl-warnings\");\n",
       "        if (warnings) {\n",
       "            warnings.style.display = 'block';\n",
       "            warnings.textContent = (\n",
       "                \"This browser does not support binary websocket messages. \" +\n",
       "                    \"Performance may be slow.\");\n",
       "        }\n",
       "    }\n",
       "\n",
       "    this.imageObj = new Image();\n",
       "\n",
       "    this.context = undefined;\n",
       "    this.message = undefined;\n",
       "    this.canvas = undefined;\n",
       "    this.rubberband_canvas = undefined;\n",
       "    this.rubberband_context = undefined;\n",
       "    this.format_dropdown = undefined;\n",
       "\n",
       "    this.image_mode = 'full';\n",
       "\n",
       "    this.root = $('<div/>');\n",
       "    this._root_extra_style(this.root)\n",
       "    this.root.attr('style', 'display: inline-block');\n",
       "\n",
       "    $(parent_element).append(this.root);\n",
       "\n",
       "    this._init_header(this);\n",
       "    this._init_canvas(this);\n",
       "    this._init_toolbar(this);\n",
       "\n",
       "    var fig = this;\n",
       "\n",
       "    this.waiting = false;\n",
       "\n",
       "    this.ws.onopen =  function () {\n",
       "            fig.send_message(\"supports_binary\", {value: fig.supports_binary});\n",
       "            fig.send_message(\"send_image_mode\", {});\n",
       "            if (mpl.ratio != 1) {\n",
       "                fig.send_message(\"set_dpi_ratio\", {'dpi_ratio': mpl.ratio});\n",
       "            }\n",
       "            fig.send_message(\"refresh\", {});\n",
       "        }\n",
       "\n",
       "    this.imageObj.onload = function() {\n",
       "            if (fig.image_mode == 'full') {\n",
       "                // Full images could contain transparency (where diff images\n",
       "                // almost always do), so we need to clear the canvas so that\n",
       "                // there is no ghosting.\n",
       "                fig.context.clearRect(0, 0, fig.canvas.width, fig.canvas.height);\n",
       "            }\n",
       "            fig.context.drawImage(fig.imageObj, 0, 0);\n",
       "        };\n",
       "\n",
       "    this.imageObj.onunload = function() {\n",
       "        this.ws.close();\n",
       "    }\n",
       "\n",
       "    this.ws.onmessage = this._make_on_message_function(this);\n",
       "\n",
       "    this.ondownload = ondownload;\n",
       "}\n",
       "\n",
       "mpl.figure.prototype._init_header = function() {\n",
       "    var titlebar = $(\n",
       "        '<div class=\"ui-dialog-titlebar ui-widget-header ui-corner-all ' +\n",
       "        'ui-helper-clearfix\"/>');\n",
       "    var titletext = $(\n",
       "        '<div class=\"ui-dialog-title\" style=\"width: 100%; ' +\n",
       "        'text-align: center; padding: 3px;\"/>');\n",
       "    titlebar.append(titletext)\n",
       "    this.root.append(titlebar);\n",
       "    this.header = titletext[0];\n",
       "}\n",
       "\n",
       "\n",
       "\n",
       "mpl.figure.prototype._canvas_extra_style = function(canvas_div) {\n",
       "\n",
       "}\n",
       "\n",
       "\n",
       "mpl.figure.prototype._root_extra_style = function(canvas_div) {\n",
       "\n",
       "}\n",
       "\n",
       "mpl.figure.prototype._init_canvas = function() {\n",
       "    var fig = this;\n",
       "\n",
       "    var canvas_div = $('<div/>');\n",
       "\n",
       "    canvas_div.attr('style', 'position: relative; clear: both; outline: 0');\n",
       "\n",
       "    function canvas_keyboard_event(event) {\n",
       "        return fig.key_event(event, event['data']);\n",
       "    }\n",
       "\n",
       "    canvas_div.keydown('key_press', canvas_keyboard_event);\n",
       "    canvas_div.keyup('key_release', canvas_keyboard_event);\n",
       "    this.canvas_div = canvas_div\n",
       "    this._canvas_extra_style(canvas_div)\n",
       "    this.root.append(canvas_div);\n",
       "\n",
       "    var canvas = $('<canvas/>');\n",
       "    canvas.addClass('mpl-canvas');\n",
       "    canvas.attr('style', \"left: 0; top: 0; z-index: 0; outline: 0\")\n",
       "\n",
       "    this.canvas = canvas[0];\n",
       "    this.context = canvas[0].getContext(\"2d\");\n",
       "\n",
       "    var backingStore = this.context.backingStorePixelRatio ||\n",
       "\tthis.context.webkitBackingStorePixelRatio ||\n",
       "\tthis.context.mozBackingStorePixelRatio ||\n",
       "\tthis.context.msBackingStorePixelRatio ||\n",
       "\tthis.context.oBackingStorePixelRatio ||\n",
       "\tthis.context.backingStorePixelRatio || 1;\n",
       "\n",
       "    mpl.ratio = (window.devicePixelRatio || 1) / backingStore;\n",
       "\n",
       "    var rubberband = $('<canvas/>');\n",
       "    rubberband.attr('style', \"position: absolute; left: 0; top: 0; z-index: 1;\")\n",
       "\n",
       "    var pass_mouse_events = true;\n",
       "\n",
       "    canvas_div.resizable({\n",
       "        start: function(event, ui) {\n",
       "            pass_mouse_events = false;\n",
       "        },\n",
       "        resize: function(event, ui) {\n",
       "            fig.request_resize(ui.size.width, ui.size.height);\n",
       "        },\n",
       "        stop: function(event, ui) {\n",
       "            pass_mouse_events = true;\n",
       "            fig.request_resize(ui.size.width, ui.size.height);\n",
       "        },\n",
       "    });\n",
       "\n",
       "    function mouse_event_fn(event) {\n",
       "        if (pass_mouse_events)\n",
       "            return fig.mouse_event(event, event['data']);\n",
       "    }\n",
       "\n",
       "    rubberband.mousedown('button_press', mouse_event_fn);\n",
       "    rubberband.mouseup('button_release', mouse_event_fn);\n",
       "    // Throttle sequential mouse events to 1 every 20ms.\n",
       "    rubberband.mousemove('motion_notify', mouse_event_fn);\n",
       "\n",
       "    rubberband.mouseenter('figure_enter', mouse_event_fn);\n",
       "    rubberband.mouseleave('figure_leave', mouse_event_fn);\n",
       "\n",
       "    canvas_div.on(\"wheel\", function (event) {\n",
       "        event = event.originalEvent;\n",
       "        event['data'] = 'scroll'\n",
       "        if (event.deltaY < 0) {\n",
       "            event.step = 1;\n",
       "        } else {\n",
       "            event.step = -1;\n",
       "        }\n",
       "        mouse_event_fn(event);\n",
       "    });\n",
       "\n",
       "    canvas_div.append(canvas);\n",
       "    canvas_div.append(rubberband);\n",
       "\n",
       "    this.rubberband = rubberband;\n",
       "    this.rubberband_canvas = rubberband[0];\n",
       "    this.rubberband_context = rubberband[0].getContext(\"2d\");\n",
       "    this.rubberband_context.strokeStyle = \"#000000\";\n",
       "\n",
       "    this._resize_canvas = function(width, height) {\n",
       "        // Keep the size of the canvas, canvas container, and rubber band\n",
       "        // canvas in synch.\n",
       "        canvas_div.css('width', width)\n",
       "        canvas_div.css('height', height)\n",
       "\n",
       "        canvas.attr('width', width * mpl.ratio);\n",
       "        canvas.attr('height', height * mpl.ratio);\n",
       "        canvas.attr('style', 'width: ' + width + 'px; height: ' + height + 'px;');\n",
       "\n",
       "        rubberband.attr('width', width);\n",
       "        rubberband.attr('height', height);\n",
       "    }\n",
       "\n",
       "    // Set the figure to an initial 600x600px, this will subsequently be updated\n",
       "    // upon first draw.\n",
       "    this._resize_canvas(600, 600);\n",
       "\n",
       "    // Disable right mouse context menu.\n",
       "    $(this.rubberband_canvas).bind(\"contextmenu\",function(e){\n",
       "        return false;\n",
       "    });\n",
       "\n",
       "    function set_focus () {\n",
       "        canvas.focus();\n",
       "        canvas_div.focus();\n",
       "    }\n",
       "\n",
       "    window.setTimeout(set_focus, 100);\n",
       "}\n",
       "\n",
       "mpl.figure.prototype._init_toolbar = function() {\n",
       "    var fig = this;\n",
       "\n",
       "    var nav_element = $('<div/>')\n",
       "    nav_element.attr('style', 'width: 100%');\n",
       "    this.root.append(nav_element);\n",
       "\n",
       "    // Define a callback function for later on.\n",
       "    function toolbar_event(event) {\n",
       "        return fig.toolbar_button_onclick(event['data']);\n",
       "    }\n",
       "    function toolbar_mouse_event(event) {\n",
       "        return fig.toolbar_button_onmouseover(event['data']);\n",
       "    }\n",
       "\n",
       "    for(var toolbar_ind in mpl.toolbar_items) {\n",
       "        var name = mpl.toolbar_items[toolbar_ind][0];\n",
       "        var tooltip = mpl.toolbar_items[toolbar_ind][1];\n",
       "        var image = mpl.toolbar_items[toolbar_ind][2];\n",
       "        var method_name = mpl.toolbar_items[toolbar_ind][3];\n",
       "\n",
       "        if (!name) {\n",
       "            // put a spacer in here.\n",
       "            continue;\n",
       "        }\n",
       "        var button = $('<button/>');\n",
       "        button.addClass('ui-button ui-widget ui-state-default ui-corner-all ' +\n",
       "                        'ui-button-icon-only');\n",
       "        button.attr('role', 'button');\n",
       "        button.attr('aria-disabled', 'false');\n",
       "        button.click(method_name, toolbar_event);\n",
       "        button.mouseover(tooltip, toolbar_mouse_event);\n",
       "\n",
       "        var icon_img = $('<span/>');\n",
       "        icon_img.addClass('ui-button-icon-primary ui-icon');\n",
       "        icon_img.addClass(image);\n",
       "        icon_img.addClass('ui-corner-all');\n",
       "\n",
       "        var tooltip_span = $('<span/>');\n",
       "        tooltip_span.addClass('ui-button-text');\n",
       "        tooltip_span.html(tooltip);\n",
       "\n",
       "        button.append(icon_img);\n",
       "        button.append(tooltip_span);\n",
       "\n",
       "        nav_element.append(button);\n",
       "    }\n",
       "\n",
       "    var fmt_picker_span = $('<span/>');\n",
       "\n",
       "    var fmt_picker = $('<select/>');\n",
       "    fmt_picker.addClass('mpl-toolbar-option ui-widget ui-widget-content');\n",
       "    fmt_picker_span.append(fmt_picker);\n",
       "    nav_element.append(fmt_picker_span);\n",
       "    this.format_dropdown = fmt_picker[0];\n",
       "\n",
       "    for (var ind in mpl.extensions) {\n",
       "        var fmt = mpl.extensions[ind];\n",
       "        var option = $(\n",
       "            '<option/>', {selected: fmt === mpl.default_extension}).html(fmt);\n",
       "        fmt_picker.append(option)\n",
       "    }\n",
       "\n",
       "    // Add hover states to the ui-buttons\n",
       "    $( \".ui-button\" ).hover(\n",
       "        function() { $(this).addClass(\"ui-state-hover\");},\n",
       "        function() { $(this).removeClass(\"ui-state-hover\");}\n",
       "    );\n",
       "\n",
       "    var status_bar = $('<span class=\"mpl-message\"/>');\n",
       "    nav_element.append(status_bar);\n",
       "    this.message = status_bar[0];\n",
       "}\n",
       "\n",
       "mpl.figure.prototype.request_resize = function(x_pixels, y_pixels) {\n",
       "    // Request matplotlib to resize the figure. Matplotlib will then trigger a resize in the client,\n",
       "    // which will in turn request a refresh of the image.\n",
       "    this.send_message('resize', {'width': x_pixels, 'height': y_pixels});\n",
       "}\n",
       "\n",
       "mpl.figure.prototype.send_message = function(type, properties) {\n",
       "    properties['type'] = type;\n",
       "    properties['figure_id'] = this.id;\n",
       "    this.ws.send(JSON.stringify(properties));\n",
       "}\n",
       "\n",
       "mpl.figure.prototype.send_draw_message = function() {\n",
       "    if (!this.waiting) {\n",
       "        this.waiting = true;\n",
       "        this.ws.send(JSON.stringify({type: \"draw\", figure_id: this.id}));\n",
       "    }\n",
       "}\n",
       "\n",
       "\n",
       "mpl.figure.prototype.handle_save = function(fig, msg) {\n",
       "    var format_dropdown = fig.format_dropdown;\n",
       "    var format = format_dropdown.options[format_dropdown.selectedIndex].value;\n",
       "    fig.ondownload(fig, format);\n",
       "}\n",
       "\n",
       "\n",
       "mpl.figure.prototype.handle_resize = function(fig, msg) {\n",
       "    var size = msg['size'];\n",
       "    if (size[0] != fig.canvas.width || size[1] != fig.canvas.height) {\n",
       "        fig._resize_canvas(size[0], size[1]);\n",
       "        fig.send_message(\"refresh\", {});\n",
       "    };\n",
       "}\n",
       "\n",
       "mpl.figure.prototype.handle_rubberband = function(fig, msg) {\n",
       "    var x0 = msg['x0'] / mpl.ratio;\n",
       "    var y0 = (fig.canvas.height - msg['y0']) / mpl.ratio;\n",
       "    var x1 = msg['x1'] / mpl.ratio;\n",
       "    var y1 = (fig.canvas.height - msg['y1']) / mpl.ratio;\n",
       "    x0 = Math.floor(x0) + 0.5;\n",
       "    y0 = Math.floor(y0) + 0.5;\n",
       "    x1 = Math.floor(x1) + 0.5;\n",
       "    y1 = Math.floor(y1) + 0.5;\n",
       "    var min_x = Math.min(x0, x1);\n",
       "    var min_y = Math.min(y0, y1);\n",
       "    var width = Math.abs(x1 - x0);\n",
       "    var height = Math.abs(y1 - y0);\n",
       "\n",
       "    fig.rubberband_context.clearRect(\n",
       "        0, 0, fig.canvas.width, fig.canvas.height);\n",
       "\n",
       "    fig.rubberband_context.strokeRect(min_x, min_y, width, height);\n",
       "}\n",
       "\n",
       "mpl.figure.prototype.handle_figure_label = function(fig, msg) {\n",
       "    // Updates the figure title.\n",
       "    fig.header.textContent = msg['label'];\n",
       "}\n",
       "\n",
       "mpl.figure.prototype.handle_cursor = function(fig, msg) {\n",
       "    var cursor = msg['cursor'];\n",
       "    switch(cursor)\n",
       "    {\n",
       "    case 0:\n",
       "        cursor = 'pointer';\n",
       "        break;\n",
       "    case 1:\n",
       "        cursor = 'default';\n",
       "        break;\n",
       "    case 2:\n",
       "        cursor = 'crosshair';\n",
       "        break;\n",
       "    case 3:\n",
       "        cursor = 'move';\n",
       "        break;\n",
       "    }\n",
       "    fig.rubberband_canvas.style.cursor = cursor;\n",
       "}\n",
       "\n",
       "mpl.figure.prototype.handle_message = function(fig, msg) {\n",
       "    fig.message.textContent = msg['message'];\n",
       "}\n",
       "\n",
       "mpl.figure.prototype.handle_draw = function(fig, msg) {\n",
       "    // Request the server to send over a new figure.\n",
       "    fig.send_draw_message();\n",
       "}\n",
       "\n",
       "mpl.figure.prototype.handle_image_mode = function(fig, msg) {\n",
       "    fig.image_mode = msg['mode'];\n",
       "}\n",
       "\n",
       "mpl.figure.prototype.updated_canvas_event = function() {\n",
       "    // Called whenever the canvas gets updated.\n",
       "    this.send_message(\"ack\", {});\n",
       "}\n",
       "\n",
       "// A function to construct a web socket function for onmessage handling.\n",
       "// Called in the figure constructor.\n",
       "mpl.figure.prototype._make_on_message_function = function(fig) {\n",
       "    return function socket_on_message(evt) {\n",
       "        if (evt.data instanceof Blob) {\n",
       "            /* FIXME: We get \"Resource interpreted as Image but\n",
       "             * transferred with MIME type text/plain:\" errors on\n",
       "             * Chrome.  But how to set the MIME type?  It doesn't seem\n",
       "             * to be part of the websocket stream */\n",
       "            evt.data.type = \"image/png\";\n",
       "\n",
       "            /* Free the memory for the previous frames */\n",
       "            if (fig.imageObj.src) {\n",
       "                (window.URL || window.webkitURL).revokeObjectURL(\n",
       "                    fig.imageObj.src);\n",
       "            }\n",
       "\n",
       "            fig.imageObj.src = (window.URL || window.webkitURL).createObjectURL(\n",
       "                evt.data);\n",
       "            fig.updated_canvas_event();\n",
       "            fig.waiting = false;\n",
       "            return;\n",
       "        }\n",
       "        else if (typeof evt.data === 'string' && evt.data.slice(0, 21) == \"data:image/png;base64\") {\n",
       "            fig.imageObj.src = evt.data;\n",
       "            fig.updated_canvas_event();\n",
       "            fig.waiting = false;\n",
       "            return;\n",
       "        }\n",
       "\n",
       "        var msg = JSON.parse(evt.data);\n",
       "        var msg_type = msg['type'];\n",
       "\n",
       "        // Call the  \"handle_{type}\" callback, which takes\n",
       "        // the figure and JSON message as its only arguments.\n",
       "        try {\n",
       "            var callback = fig[\"handle_\" + msg_type];\n",
       "        } catch (e) {\n",
       "            console.log(\"No handler for the '\" + msg_type + \"' message type: \", msg);\n",
       "            return;\n",
       "        }\n",
       "\n",
       "        if (callback) {\n",
       "            try {\n",
       "                // console.log(\"Handling '\" + msg_type + \"' message: \", msg);\n",
       "                callback(fig, msg);\n",
       "            } catch (e) {\n",
       "                console.log(\"Exception inside the 'handler_\" + msg_type + \"' callback:\", e, e.stack, msg);\n",
       "            }\n",
       "        }\n",
       "    };\n",
       "}\n",
       "\n",
       "// from http://stackoverflow.com/questions/1114465/getting-mouse-location-in-canvas\n",
       "mpl.findpos = function(e) {\n",
       "    //this section is from http://www.quirksmode.org/js/events_properties.html\n",
       "    var targ;\n",
       "    if (!e)\n",
       "        e = window.event;\n",
       "    if (e.target)\n",
       "        targ = e.target;\n",
       "    else if (e.srcElement)\n",
       "        targ = e.srcElement;\n",
       "    if (targ.nodeType == 3) // defeat Safari bug\n",
       "        targ = targ.parentNode;\n",
       "\n",
       "    // jQuery normalizes the pageX and pageY\n",
       "    // pageX,Y are the mouse positions relative to the document\n",
       "    // offset() returns the position of the element relative to the document\n",
       "    var x = e.pageX - $(targ).offset().left;\n",
       "    var y = e.pageY - $(targ).offset().top;\n",
       "\n",
       "    return {\"x\": x, \"y\": y};\n",
       "};\n",
       "\n",
       "/*\n",
       " * return a copy of an object with only non-object keys\n",
       " * we need this to avoid circular references\n",
       " * http://stackoverflow.com/a/24161582/3208463\n",
       " */\n",
       "function simpleKeys (original) {\n",
       "  return Object.keys(original).reduce(function (obj, key) {\n",
       "    if (typeof original[key] !== 'object')\n",
       "        obj[key] = original[key]\n",
       "    return obj;\n",
       "  }, {});\n",
       "}\n",
       "\n",
       "mpl.figure.prototype.mouse_event = function(event, name) {\n",
       "    var canvas_pos = mpl.findpos(event)\n",
       "\n",
       "    if (name === 'button_press')\n",
       "    {\n",
       "        this.canvas.focus();\n",
       "        this.canvas_div.focus();\n",
       "    }\n",
       "\n",
       "    var x = canvas_pos.x * mpl.ratio;\n",
       "    var y = canvas_pos.y * mpl.ratio;\n",
       "\n",
       "    this.send_message(name, {x: x, y: y, button: event.button,\n",
       "                             step: event.step,\n",
       "                             guiEvent: simpleKeys(event)});\n",
       "\n",
       "    /* This prevents the web browser from automatically changing to\n",
       "     * the text insertion cursor when the button is pressed.  We want\n",
       "     * to control all of the cursor setting manually through the\n",
       "     * 'cursor' event from matplotlib */\n",
       "    event.preventDefault();\n",
       "    return false;\n",
       "}\n",
       "\n",
       "mpl.figure.prototype._key_event_extra = function(event, name) {\n",
       "    // Handle any extra behaviour associated with a key event\n",
       "}\n",
       "\n",
       "mpl.figure.prototype.key_event = function(event, name) {\n",
       "\n",
       "    // Prevent repeat events\n",
       "    if (name == 'key_press')\n",
       "    {\n",
       "        if (event.which === this._key)\n",
       "            return;\n",
       "        else\n",
       "            this._key = event.which;\n",
       "    }\n",
       "    if (name == 'key_release')\n",
       "        this._key = null;\n",
       "\n",
       "    var value = '';\n",
       "    if (event.ctrlKey && event.which != 17)\n",
       "        value += \"ctrl+\";\n",
       "    if (event.altKey && event.which != 18)\n",
       "        value += \"alt+\";\n",
       "    if (event.shiftKey && event.which != 16)\n",
       "        value += \"shift+\";\n",
       "\n",
       "    value += 'k';\n",
       "    value += event.which.toString();\n",
       "\n",
       "    this._key_event_extra(event, name);\n",
       "\n",
       "    this.send_message(name, {key: value,\n",
       "                             guiEvent: simpleKeys(event)});\n",
       "    return false;\n",
       "}\n",
       "\n",
       "mpl.figure.prototype.toolbar_button_onclick = function(name) {\n",
       "    if (name == 'download') {\n",
       "        this.handle_save(this, null);\n",
       "    } else {\n",
       "        this.send_message(\"toolbar_button\", {name: name});\n",
       "    }\n",
       "};\n",
       "\n",
       "mpl.figure.prototype.toolbar_button_onmouseover = function(tooltip) {\n",
       "    this.message.textContent = tooltip;\n",
       "};\n",
       "mpl.toolbar_items = [[\"Home\", \"Reset original view\", \"fa fa-home icon-home\", \"home\"], [\"Back\", \"Back to  previous view\", \"fa fa-arrow-left icon-arrow-left\", \"back\"], [\"Forward\", \"Forward to next view\", \"fa fa-arrow-right icon-arrow-right\", \"forward\"], [\"\", \"\", \"\", \"\"], [\"Pan\", \"Pan axes with left mouse, zoom with right\", \"fa fa-arrows icon-move\", \"pan\"], [\"Zoom\", \"Zoom to rectangle\", \"fa fa-square-o icon-check-empty\", \"zoom\"], [\"\", \"\", \"\", \"\"], [\"Download\", \"Download plot\", \"fa fa-floppy-o icon-save\", \"download\"]];\n",
       "\n",
       "mpl.extensions = [\"eps\", \"jpeg\", \"pdf\", \"png\", \"ps\", \"raw\", \"svg\", \"tif\"];\n",
       "\n",
       "mpl.default_extension = \"png\";var comm_websocket_adapter = function(comm) {\n",
       "    // Create a \"websocket\"-like object which calls the given IPython comm\n",
       "    // object with the appropriate methods. Currently this is a non binary\n",
       "    // socket, so there is still some room for performance tuning.\n",
       "    var ws = {};\n",
       "\n",
       "    ws.close = function() {\n",
       "        comm.close()\n",
       "    };\n",
       "    ws.send = function(m) {\n",
       "        //console.log('sending', m);\n",
       "        comm.send(m);\n",
       "    };\n",
       "    // Register the callback with on_msg.\n",
       "    comm.on_msg(function(msg) {\n",
       "        //console.log('receiving', msg['content']['data'], msg);\n",
       "        // Pass the mpl event to the overriden (by mpl) onmessage function.\n",
       "        ws.onmessage(msg['content']['data'])\n",
       "    });\n",
       "    return ws;\n",
       "}\n",
       "\n",
       "mpl.mpl_figure_comm = function(comm, msg) {\n",
       "    // This is the function which gets called when the mpl process\n",
       "    // starts-up an IPython Comm through the \"matplotlib\" channel.\n",
       "\n",
       "    var id = msg.content.data.id;\n",
       "    // Get hold of the div created by the display call when the Comm\n",
       "    // socket was opened in Python.\n",
       "    var element = $(\"#\" + id);\n",
       "    var ws_proxy = comm_websocket_adapter(comm)\n",
       "\n",
       "    function ondownload(figure, format) {\n",
       "        window.open(figure.imageObj.src);\n",
       "    }\n",
       "\n",
       "    var fig = new mpl.figure(id, ws_proxy,\n",
       "                           ondownload,\n",
       "                           element.get(0));\n",
       "\n",
       "    // Call onopen now - mpl needs it, as it is assuming we've passed it a real\n",
       "    // web socket which is closed, not our websocket->open comm proxy.\n",
       "    ws_proxy.onopen();\n",
       "\n",
       "    fig.parent_element = element.get(0);\n",
       "    fig.cell_info = mpl.find_output_cell(\"<div id='\" + id + \"'></div>\");\n",
       "    if (!fig.cell_info) {\n",
       "        console.error(\"Failed to find cell for figure\", id, fig);\n",
       "        return;\n",
       "    }\n",
       "\n",
       "    var output_index = fig.cell_info[2]\n",
       "    var cell = fig.cell_info[0];\n",
       "\n",
       "};\n",
       "\n",
       "mpl.figure.prototype.handle_close = function(fig, msg) {\n",
       "    var width = fig.canvas.width/mpl.ratio\n",
       "    fig.root.unbind('remove')\n",
       "\n",
       "    // Update the output cell to use the data from the current canvas.\n",
       "    fig.push_to_output();\n",
       "    var dataURL = fig.canvas.toDataURL();\n",
       "    // Re-enable the keyboard manager in IPython - without this line, in FF,\n",
       "    // the notebook keyboard shortcuts fail.\n",
       "    IPython.keyboard_manager.enable()\n",
       "    $(fig.parent_element).html('<img src=\"' + dataURL + '\" width=\"' + width + '\">');\n",
       "    fig.close_ws(fig, msg);\n",
       "}\n",
       "\n",
       "mpl.figure.prototype.close_ws = function(fig, msg){\n",
       "    fig.send_message('closing', msg);\n",
       "    // fig.ws.close()\n",
       "}\n",
       "\n",
       "mpl.figure.prototype.push_to_output = function(remove_interactive) {\n",
       "    // Turn the data on the canvas into data in the output cell.\n",
       "    var width = this.canvas.width/mpl.ratio\n",
       "    var dataURL = this.canvas.toDataURL();\n",
       "    this.cell_info[1]['text/html'] = '<img src=\"' + dataURL + '\" width=\"' + width + '\">';\n",
       "}\n",
       "\n",
       "mpl.figure.prototype.updated_canvas_event = function() {\n",
       "    // Tell IPython that the notebook contents must change.\n",
       "    IPython.notebook.set_dirty(true);\n",
       "    this.send_message(\"ack\", {});\n",
       "    var fig = this;\n",
       "    // Wait a second, then push the new image to the DOM so\n",
       "    // that it is saved nicely (might be nice to debounce this).\n",
       "    setTimeout(function () { fig.push_to_output() }, 1000);\n",
       "}\n",
       "\n",
       "mpl.figure.prototype._init_toolbar = function() {\n",
       "    var fig = this;\n",
       "\n",
       "    var nav_element = $('<div/>')\n",
       "    nav_element.attr('style', 'width: 100%');\n",
       "    this.root.append(nav_element);\n",
       "\n",
       "    // Define a callback function for later on.\n",
       "    function toolbar_event(event) {\n",
       "        return fig.toolbar_button_onclick(event['data']);\n",
       "    }\n",
       "    function toolbar_mouse_event(event) {\n",
       "        return fig.toolbar_button_onmouseover(event['data']);\n",
       "    }\n",
       "\n",
       "    for(var toolbar_ind in mpl.toolbar_items){\n",
       "        var name = mpl.toolbar_items[toolbar_ind][0];\n",
       "        var tooltip = mpl.toolbar_items[toolbar_ind][1];\n",
       "        var image = mpl.toolbar_items[toolbar_ind][2];\n",
       "        var method_name = mpl.toolbar_items[toolbar_ind][3];\n",
       "\n",
       "        if (!name) { continue; };\n",
       "\n",
       "        var button = $('<button class=\"btn btn-default\" href=\"#\" title=\"' + name + '\"><i class=\"fa ' + image + ' fa-lg\"></i></button>');\n",
       "        button.click(method_name, toolbar_event);\n",
       "        button.mouseover(tooltip, toolbar_mouse_event);\n",
       "        nav_element.append(button);\n",
       "    }\n",
       "\n",
       "    // Add the status bar.\n",
       "    var status_bar = $('<span class=\"mpl-message\" style=\"text-align:right; float: right;\"/>');\n",
       "    nav_element.append(status_bar);\n",
       "    this.message = status_bar[0];\n",
       "\n",
       "    // Add the close button to the window.\n",
       "    var buttongrp = $('<div class=\"btn-group inline pull-right\"></div>');\n",
       "    var button = $('<button class=\"btn btn-mini btn-primary\" href=\"#\" title=\"Stop Interaction\"><i class=\"fa fa-power-off icon-remove icon-large\"></i></button>');\n",
       "    button.click(function (evt) { fig.handle_close(fig, {}); } );\n",
       "    button.mouseover('Stop Interaction', toolbar_mouse_event);\n",
       "    buttongrp.append(button);\n",
       "    var titlebar = this.root.find($('.ui-dialog-titlebar'));\n",
       "    titlebar.prepend(buttongrp);\n",
       "}\n",
       "\n",
       "mpl.figure.prototype._root_extra_style = function(el){\n",
       "    var fig = this\n",
       "    el.on(\"remove\", function(){\n",
       "\tfig.close_ws(fig, {});\n",
       "    });\n",
       "}\n",
       "\n",
       "mpl.figure.prototype._canvas_extra_style = function(el){\n",
       "    // this is important to make the div 'focusable\n",
       "    el.attr('tabindex', 0)\n",
       "    // reach out to IPython and tell the keyboard manager to turn it's self\n",
       "    // off when our div gets focus\n",
       "\n",
       "    // location in version 3\n",
       "    if (IPython.notebook.keyboard_manager) {\n",
       "        IPython.notebook.keyboard_manager.register_events(el);\n",
       "    }\n",
       "    else {\n",
       "        // location in version 2\n",
       "        IPython.keyboard_manager.register_events(el);\n",
       "    }\n",
       "\n",
       "}\n",
       "\n",
       "mpl.figure.prototype._key_event_extra = function(event, name) {\n",
       "    var manager = IPython.notebook.keyboard_manager;\n",
       "    if (!manager)\n",
       "        manager = IPython.keyboard_manager;\n",
       "\n",
       "    // Check for shift+enter\n",
       "    if (event.shiftKey && event.which == 13) {\n",
       "        this.canvas_div.blur();\n",
       "        // select the cell after this one\n",
       "        var index = IPython.notebook.find_cell_index(this.cell_info[0]);\n",
       "        IPython.notebook.select(index + 1);\n",
       "    }\n",
       "}\n",
       "\n",
       "mpl.figure.prototype.handle_save = function(fig, msg) {\n",
       "    fig.ondownload(fig, null);\n",
       "}\n",
       "\n",
       "\n",
       "mpl.find_output_cell = function(html_output) {\n",
       "    // Return the cell and output element which can be found *uniquely* in the notebook.\n",
       "    // Note - this is a bit hacky, but it is done because the \"notebook_saving.Notebook\"\n",
       "    // IPython event is triggered only after the cells have been serialised, which for\n",
       "    // our purposes (turning an active figure into a static one), is too late.\n",
       "    var cells = IPython.notebook.get_cells();\n",
       "    var ncells = cells.length;\n",
       "    for (var i=0; i<ncells; i++) {\n",
       "        var cell = cells[i];\n",
       "        if (cell.cell_type === 'code'){\n",
       "            for (var j=0; j<cell.output_area.outputs.length; j++) {\n",
       "                var data = cell.output_area.outputs[j];\n",
       "                if (data.data) {\n",
       "                    // IPython >= 3 moved mimebundle to data attribute of output\n",
       "                    data = data.data;\n",
       "                }\n",
       "                if (data['text/html'] == html_output) {\n",
       "                    return [cell, data, j];\n",
       "                }\n",
       "            }\n",
       "        }\n",
       "    }\n",
       "}\n",
       "\n",
       "// Register the function which deals with the matplotlib target/channel.\n",
       "// The kernel may be null if the page has been refreshed.\n",
       "if (IPython.notebook.kernel != null) {\n",
       "    IPython.notebook.kernel.comm_manager.register_target('matplotlib', mpl.mpl_figure_comm);\n",
       "}\n"
      ],
      "text/plain": [
       "<IPython.core.display.Javascript object>"
      ]
     },
     "metadata": {},
     "output_type": "display_data"
    },
    {
     "data": {
      "text/html": [
       "<img src=\"data:image/png;base64,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\" width=\"800\">"
      ],
      "text/plain": [
       "<IPython.core.display.HTML object>"
      ]
     },
     "metadata": {},
     "output_type": "display_data"
    }
   ],
   "source": [
    "from sklearn.metrics import precision_recall_curve\n",
    "\n",
    "precision, recall, thresholds = precision_recall_curve(y_test, y_scores_lr)\n",
    "closest_zero = np.argmin(np.abs(thresholds))\n",
    "closest_zero_p = precision[closest_zero]\n",
    "closest_zero_r = recall[closest_zero]\n",
    "\n",
    "plt.figure()\n",
    "plt.xlim([0.0, 1.01])\n",
    "plt.ylim([0.0, 1.01])\n",
    "plt.plot(precision, recall, label='Precision-Recall Curve')\n",
    "plt.plot(closest_zero_p, closest_zero_r, 'o', markersize = 12, fillstyle = 'none', c='r', mew=3)\n",
    "plt.xlabel('Precision', fontsize=16)\n",
    "plt.ylabel('Recall', fontsize=16)\n",
    "plt.axes().set_aspect('equal')\n",
    "plt.show()"
   ]
  },
  {
   "cell_type": "markdown",
   "metadata": {},
   "source": [
    "### ROC curves, Area-Under-Curve (AUC)"
   ]
  },
  {
   "cell_type": "code",
   "execution_count": null,
   "metadata": {
    "collapsed": false
   },
   "outputs": [],
   "source": [
    "from sklearn.metrics import roc_curve, auc\n",
    "\n",
    "X_train, X_test, y_train, y_test = train_test_split(X, y_binary_imbalanced, random_state=0)\n",
    "\n",
    "y_score_lr = lr.fit(X_train, y_train).decision_function(X_test)\n",
    "fpr_lr, tpr_lr, _ = roc_curve(y_test, y_score_lr)\n",
    "roc_auc_lr = auc(fpr_lr, tpr_lr)\n",
    "\n",
    "plt.figure()\n",
    "plt.xlim([-0.01, 1.00])\n",
    "plt.ylim([-0.01, 1.01])\n",
    "plt.plot(fpr_lr, tpr_lr, lw=3, label='LogRegr ROC curve (area = {:0.2f})'.format(roc_auc_lr))\n",
    "plt.xlabel('False Positive Rate', fontsize=16)\n",
    "plt.ylabel('True Positive Rate', fontsize=16)\n",
    "plt.title('ROC curve (1-of-10 digits classifier)', fontsize=16)\n",
    "plt.legend(loc='lower right', fontsize=13)\n",
    "plt.plot([0, 1], [0, 1], color='navy', lw=3, linestyle='--')\n",
    "plt.axes().set_aspect('equal')\n",
    "plt.show()"
   ]
  },
  {
   "cell_type": "code",
   "execution_count": null,
   "metadata": {
    "collapsed": false,
    "scrolled": false
   },
   "outputs": [],
   "source": [
    "from matplotlib import cm\n",
    "\n",
    "X_train, X_test, y_train, y_test = train_test_split(X, y_binary_imbalanced, random_state=0)\n",
    "\n",
    "plt.figure()\n",
    "plt.xlim([-0.01, 1.00])\n",
    "plt.ylim([-0.01, 1.01])\n",
    "for g in [0.01, 0.1, 0.20, 1]:\n",
    "    svm = SVC(gamma=g).fit(X_train, y_train)\n",
    "    y_score_svm = svm.decision_function(X_test)\n",
    "    fpr_svm, tpr_svm, _ = roc_curve(y_test, y_score_svm)\n",
    "    roc_auc_svm = auc(fpr_svm, tpr_svm)\n",
    "    accuracy_svm = svm.score(X_test, y_test)\n",
    "    print(\"gamma = {:.2f}  accuracy = {:.2f}   AUC = {:.2f}\".format(g, accuracy_svm, \n",
    "                                                                    roc_auc_svm))\n",
    "    plt.plot(fpr_svm, tpr_svm, lw=3, alpha=0.7, \n",
    "             label='SVM (gamma = {:0.2f}, area = {:0.2f})'.format(g, roc_auc_svm))\n",
    "\n",
    "plt.xlabel('False Positive Rate', fontsize=16)\n",
    "plt.ylabel('True Positive Rate (Recall)', fontsize=16)\n",
    "plt.plot([0, 1], [0, 1], color='k', lw=0.5, linestyle='--')\n",
    "plt.legend(loc=\"lower right\", fontsize=11)\n",
    "plt.title('ROC curve: (1-of-10 digits classifier)', fontsize=16)\n",
    "plt.axes().set_aspect('equal')\n",
    "\n",
    "plt.show()"
   ]
  },
  {
   "cell_type": "markdown",
   "metadata": {},
   "source": [
    "### Evaluation measures for multi-class classification"
   ]
  },
  {
   "cell_type": "markdown",
   "metadata": {},
   "source": [
    "#### Multi-class confusion matrix"
   ]
  },
  {
   "cell_type": "code",
   "execution_count": null,
   "metadata": {
    "collapsed": false,
    "scrolled": false
   },
   "outputs": [],
   "source": [
    "dataset = load_digits()\n",
    "X, y = dataset.data, dataset.target\n",
    "X_train_mc, X_test_mc, y_train_mc, y_test_mc = train_test_split(X, y, random_state=0)\n",
    "\n",
    "\n",
    "svm = SVC(kernel = 'linear').fit(X_train_mc, y_train_mc)\n",
    "svm_predicted_mc = svm.predict(X_test_mc)\n",
    "confusion_mc = confusion_matrix(y_test_mc, svm_predicted_mc)\n",
    "df_cm = pd.DataFrame(confusion_mc, \n",
    "                     index = [i for i in range(0,10)], columns = [i for i in range(0,10)])\n",
    "\n",
    "plt.figure(figsize=(5.5,4))\n",
    "sns.heatmap(df_cm, annot=True)\n",
    "plt.title('SVM Linear Kernel \\nAccuracy:{0:.3f}'.format(accuracy_score(y_test_mc, \n",
    "                                                                       svm_predicted_mc)))\n",
    "plt.ylabel('True label')\n",
    "plt.xlabel('Predicted label')\n",
    "\n",
    "\n",
    "svm = SVC(kernel = 'rbf').fit(X_train_mc, y_train_mc)\n",
    "svm_predicted_mc = svm.predict(X_test_mc)\n",
    "confusion_mc = confusion_matrix(y_test_mc, svm_predicted_mc)\n",
    "df_cm = pd.DataFrame(confusion_mc, index = [i for i in range(0,10)],\n",
    "                  columns = [i for i in range(0,10)])\n",
    "\n",
    "plt.figure(figsize = (5.5,4))\n",
    "sns.heatmap(df_cm, annot=True)\n",
    "plt.title('SVM RBF Kernel \\nAccuracy:{0:.3f}'.format(accuracy_score(y_test_mc, \n",
    "                                                                    svm_predicted_mc)))\n",
    "plt.ylabel('True label')\n",
    "plt.xlabel('Predicted label');"
   ]
  },
  {
   "cell_type": "markdown",
   "metadata": {},
   "source": [
    "#### Multi-class classification report"
   ]
  },
  {
   "cell_type": "code",
   "execution_count": null,
   "metadata": {
    "collapsed": false
   },
   "outputs": [],
   "source": [
    "print(classification_report(y_test_mc, svm_predicted_mc))"
   ]
  },
  {
   "cell_type": "markdown",
   "metadata": {},
   "source": [
    "#### Micro- vs. macro-averaged metrics"
   ]
  },
  {
   "cell_type": "code",
   "execution_count": null,
   "metadata": {
    "collapsed": false
   },
   "outputs": [],
   "source": [
    "print('Micro-averaged precision = {:.2f} (treat instances equally)'\n",
    "      .format(precision_score(y_test_mc, svm_predicted_mc, average = 'micro')))\n",
    "print('Macro-averaged precision = {:.2f} (treat classes equally)'\n",
    "      .format(precision_score(y_test_mc, svm_predicted_mc, average = 'macro')))"
   ]
  },
  {
   "cell_type": "code",
   "execution_count": null,
   "metadata": {
    "collapsed": false
   },
   "outputs": [],
   "source": [
    "print('Micro-averaged f1 = {:.2f} (treat instances equally)'\n",
    "      .format(f1_score(y_test_mc, svm_predicted_mc, average = 'micro')))\n",
    "print('Macro-averaged f1 = {:.2f} (treat classes equally)'\n",
    "      .format(f1_score(y_test_mc, svm_predicted_mc, average = 'macro')))"
   ]
  },
  {
   "cell_type": "markdown",
   "metadata": {},
   "source": [
    "### Regression evaluation metrics"
   ]
  },
  {
   "cell_type": "code",
   "execution_count": null,
   "metadata": {
    "collapsed": false
   },
   "outputs": [],
   "source": [
    "%matplotlib notebook\n",
    "import matplotlib.pyplot as plt\n",
    "import numpy as np\n",
    "from sklearn.model_selection import train_test_split\n",
    "from sklearn import datasets\n",
    "from sklearn.linear_model import LinearRegression\n",
    "from sklearn.metrics import mean_squared_error, r2_score\n",
    "from sklearn.dummy import DummyRegressor\n",
    "\n",
    "diabetes = datasets.load_diabetes()\n",
    "\n",
    "X = diabetes.data[:, None, 6]\n",
    "y = diabetes.target\n",
    "\n",
    "X_train, X_test, y_train, y_test = train_test_split(X, y, random_state=0)\n",
    "\n",
    "lm = LinearRegression().fit(X_train, y_train)\n",
    "lm_dummy_mean = DummyRegressor(strategy = 'mean').fit(X_train, y_train)\n",
    "\n",
    "y_predict = lm.predict(X_test)\n",
    "y_predict_dummy_mean = lm_dummy_mean.predict(X_test)\n",
    "\n",
    "print('Linear model, coefficients: ', lm.coef_)\n",
    "print(\"Mean squared error (dummy): {:.2f}\".format(mean_squared_error(y_test, \n",
    "                                                                     y_predict_dummy_mean)))\n",
    "print(\"Mean squared error (linear model): {:.2f}\".format(mean_squared_error(y_test, y_predict)))\n",
    "print(\"r2_score (dummy): {:.2f}\".format(r2_score(y_test, y_predict_dummy_mean)))\n",
    "print(\"r2_score (linear model): {:.2f}\".format(r2_score(y_test, y_predict)))\n",
    "\n",
    "# Plot outputs\n",
    "plt.scatter(X_test, y_test,  color='black')\n",
    "plt.plot(X_test, y_predict, color='green', linewidth=2)\n",
    "plt.plot(X_test, y_predict_dummy_mean, color='red', linestyle = 'dashed', \n",
    "         linewidth=2, label = 'dummy')\n",
    "\n",
    "plt.show()"
   ]
  },
  {
   "cell_type": "markdown",
   "metadata": {},
   "source": [
    "### Model selection using evaluation metrics"
   ]
  },
  {
   "cell_type": "markdown",
   "metadata": {},
   "source": [
    "#### Cross-validation example"
   ]
  },
  {
   "cell_type": "code",
   "execution_count": null,
   "metadata": {
    "collapsed": false
   },
   "outputs": [],
   "source": [
    "from sklearn.model_selection import cross_val_score\n",
    "from sklearn.svm import SVC\n",
    "\n",
    "dataset = load_digits()\n",
    "# again, making this a binary problem with 'digit 1' as positive class \n",
    "# and 'not 1' as negative class\n",
    "X, y = dataset.data, dataset.target == 1\n",
    "clf = SVC(kernel='linear', C=1)\n",
    "\n",
    "# accuracy is the default scoring metric\n",
    "print('Cross-validation (accuracy)', cross_val_score(clf, X, y, cv=5))\n",
    "# use AUC as scoring metric\n",
    "print('Cross-validation (AUC)', cross_val_score(clf, X, y, cv=5, scoring = 'roc_auc'))\n",
    "# use recall as scoring metric\n",
    "print('Cross-validation (recall)', cross_val_score(clf, X, y, cv=5, scoring = 'recall'))"
   ]
  },
  {
   "cell_type": "markdown",
   "metadata": {},
   "source": [
    "#### Grid search example"
   ]
  },
  {
   "cell_type": "code",
   "execution_count": null,
   "metadata": {
    "collapsed": false
   },
   "outputs": [],
   "source": [
    "from sklearn.svm import SVC\n",
    "from sklearn.model_selection import GridSearchCV\n",
    "from sklearn.metrics import roc_auc_score\n",
    "\n",
    "dataset = load_digits()\n",
    "X, y = dataset.data, dataset.target == 1\n",
    "X_train, X_test, y_train, y_test = train_test_split(X, y, random_state=0)\n",
    "\n",
    "clf = SVC(kernel='rbf')\n",
    "grid_values = {'gamma': [0.001, 0.01, 0.05, 0.1, 1, 10, 100]}\n",
    "\n",
    "# default metric to optimize over grid parameters: accuracy\n",
    "grid_clf_acc = GridSearchCV(clf, param_grid = grid_values)\n",
    "grid_clf_acc.fit(X_train, y_train)\n",
    "y_decision_fn_scores_acc = grid_clf_acc.decision_function(X_test) \n",
    "\n",
    "print('Grid best parameter (max. accuracy): ', grid_clf_acc.best_params_)\n",
    "print('Grid best score (accuracy): ', grid_clf_acc.best_score_)\n",
    "\n",
    "# alternative metric to optimize over grid parameters: AUC\n",
    "grid_clf_auc = GridSearchCV(clf, param_grid = grid_values, scoring = 'roc_auc')\n",
    "grid_clf_auc.fit(X_train, y_train)\n",
    "y_decision_fn_scores_auc = grid_clf_auc.decision_function(X_test) \n",
    "\n",
    "print('Test set AUC: ', roc_auc_score(y_test, y_decision_fn_scores_auc))\n",
    "print('Grid best parameter (max. AUC): ', grid_clf_auc.best_params_)\n",
    "print('Grid best score (AUC): ', grid_clf_auc.best_score_)\n"
   ]
  },
  {
   "cell_type": "markdown",
   "metadata": {},
   "source": [
    "#### Evaluation metrics supported for model selection"
   ]
  },
  {
   "cell_type": "code",
   "execution_count": null,
   "metadata": {
    "collapsed": false
   },
   "outputs": [],
   "source": [
    "from sklearn.metrics.scorer import SCORERS\n",
    "\n",
    "print(sorted(list(SCORERS.keys())))"
   ]
  },
  {
   "cell_type": "markdown",
   "metadata": {},
   "source": [
    "### Two-feature classification example using the digits dataset"
   ]
  },
  {
   "cell_type": "markdown",
   "metadata": {},
   "source": [
    "#### Optimizing a classifier using different evaluation metrics"
   ]
  },
  {
   "cell_type": "code",
   "execution_count": null,
   "metadata": {
    "collapsed": false,
    "scrolled": false
   },
   "outputs": [],
   "source": [
    "from sklearn.datasets import load_digits\n",
    "from sklearn.model_selection import train_test_split\n",
    "from adspy_shared_utilities import plot_class_regions_for_classifier_subplot\n",
    "from sklearn.svm import SVC\n",
    "from sklearn.model_selection import GridSearchCV\n",
    "\n",
    "\n",
    "dataset = load_digits()\n",
    "X, y = dataset.data, dataset.target == 1\n",
    "X_train, X_test, y_train, y_test = train_test_split(X, y, random_state=0)\n",
    "\n",
    "# Create a two-feature input vector matching the example plot above\n",
    "# We jitter the points (add a small amount of random noise) in case there are areas\n",
    "# in feature space where many instances have the same features.\n",
    "jitter_delta = 0.25\n",
    "X_twovar_train = X_train[:,[20,59]]+ np.random.rand(X_train.shape[0], 2) - jitter_delta\n",
    "X_twovar_test  = X_test[:,[20,59]] + np.random.rand(X_test.shape[0], 2) - jitter_delta\n",
    "\n",
    "clf = SVC(kernel = 'linear').fit(X_twovar_train, y_train)\n",
    "grid_values = {'class_weight':['balanced', {1:2},{1:3},{1:4},{1:5},{1:10},{1:20},{1:50}]}\n",
    "plt.figure(figsize=(9,6))\n",
    "for i, eval_metric in enumerate(('precision','recall', 'f1','roc_auc')):\n",
    "    grid_clf_custom = GridSearchCV(clf, param_grid=grid_values, scoring=eval_metric)\n",
    "    grid_clf_custom.fit(X_twovar_train, y_train)\n",
    "    print('Grid best parameter (max. {0}): {1}'\n",
    "          .format(eval_metric, grid_clf_custom.best_params_))\n",
    "    print('Grid best score ({0}): {1}'\n",
    "          .format(eval_metric, grid_clf_custom.best_score_))\n",
    "    plt.subplots_adjust(wspace=0.3, hspace=0.3)\n",
    "    plot_class_regions_for_classifier_subplot(grid_clf_custom, X_twovar_test, y_test, None,\n",
    "                                             None, None,  plt.subplot(2, 2, i+1))\n",
    "    \n",
    "    plt.title(eval_metric+'-oriented SVC')\n",
    "plt.tight_layout()\n",
    "plt.show()"
   ]
  },
  {
   "cell_type": "markdown",
   "metadata": {},
   "source": [
    "#### Precision-recall curve for the default SVC classifier (with balanced class weights)"
   ]
  },
  {
   "cell_type": "code",
   "execution_count": null,
   "metadata": {
    "collapsed": false,
    "scrolled": false
   },
   "outputs": [],
   "source": [
    "from sklearn.model_selection import train_test_split\n",
    "from sklearn.metrics import precision_recall_curve\n",
    "from adspy_shared_utilities import plot_class_regions_for_classifier\n",
    "from sklearn.svm import SVC\n",
    "\n",
    "dataset = load_digits()\n",
    "X, y = dataset.data, dataset.target == 1\n",
    "X_train, X_test, y_train, y_test = train_test_split(X, y, random_state=0)\n",
    "\n",
    "# create a two-feature input vector matching the example plot above\n",
    "jitter_delta = 0.25\n",
    "X_twovar_train = X_train[:,[20,59]]+ np.random.rand(X_train.shape[0], 2) - jitter_delta\n",
    "X_twovar_test  = X_test[:,[20,59]] + np.random.rand(X_test.shape[0], 2) - jitter_delta\n",
    "\n",
    "clf = SVC(kernel='linear', class_weight='balanced').fit(X_twovar_train, y_train)\n",
    "\n",
    "y_scores = clf.decision_function(X_twovar_test)\n",
    "\n",
    "precision, recall, thresholds = precision_recall_curve(y_test, y_scores)\n",
    "closest_zero = np.argmin(np.abs(thresholds))\n",
    "closest_zero_p = precision[closest_zero]\n",
    "closest_zero_r = recall[closest_zero]\n",
    "\n",
    "plot_class_regions_for_classifier(clf, X_twovar_test, y_test)\n",
    "plt.title(\"SVC, class_weight = 'balanced', optimized for accuracy\")\n",
    "plt.show()\n",
    "\n",
    "plt.figure()\n",
    "plt.xlim([0.0, 1.01])\n",
    "plt.ylim([0.0, 1.01])\n",
    "plt.title (\"Precision-recall curve: SVC, class_weight = 'balanced'\")\n",
    "plt.plot(precision, recall, label = 'Precision-Recall Curve')\n",
    "plt.plot(closest_zero_p, closest_zero_r, 'o', markersize=12, fillstyle='none', c='r', mew=3)\n",
    "plt.xlabel('Precision', fontsize=16)\n",
    "plt.ylabel('Recall', fontsize=16)\n",
    "plt.axes().set_aspect('equal')\n",
    "plt.show()\n",
    "print('At zero threshold, precision: {:.2f}, recall: {:.2f}'\n",
    "      .format(closest_zero_p, closest_zero_r))"
   ]
  },
  {
   "cell_type": "code",
   "execution_count": null,
   "metadata": {
    "collapsed": true
   },
   "outputs": [],
   "source": []
  }
 ],
 "metadata": {
  "anaconda-cloud": {},
  "kernelspec": {
   "display_name": "Python 3",
   "language": "python",
   "name": "python3"
  },
  "language_info": {
   "codemirror_mode": {
    "name": "ipython",
    "version": 3
   },
   "file_extension": ".py",
   "mimetype": "text/x-python",
   "name": "python",
   "nbconvert_exporter": "python",
   "pygments_lexer": "ipython3",
   "version": "3.6.2"
  }
 },
 "nbformat": 4,
 "nbformat_minor": 1
}
